{
 "cells": [
  {
   "cell_type": "markdown",
   "metadata": {},
   "source": [
    "# Funktionen!"
   ]
  },
  {
   "cell_type": "code",
   "execution_count": 3,
   "metadata": {},
   "outputs": [
    {
     "name": "stdout",
     "output_type": "stream",
     "text": [
      "Hi, my name is Kristina and I'm 11 years old\n"
     ]
    }
   ],
   "source": [
    "# 1. Aufgabe\n",
    "\n",
    "my_name = \"Kristina\"\n",
    "my_age = 11\n",
    "\n",
    "def name_and_age(name, age):\n",
    "    print(f\"Hi, my name is {name} and I'm {age} years old\")\n",
    "    return\n",
    "\n",
    "name_and_age(my_name, my_age)"
   ]
  },
  {
   "cell_type": "code",
   "execution_count": 15,
   "metadata": {},
   "outputs": [
    {
     "name": "stdout",
     "output_type": "stream",
     "text": [
      "Sum = 22. Even? True\n"
     ]
    }
   ],
   "source": [
    "# 2. Aufgabe\n",
    "\n",
    "first_number = 11\n",
    "second_number = 11\n",
    "\n",
    "def sum_and_even_check(first, second):\n",
    "    result = first + second\n",
    "    if result % 2 == 0:\n",
    "        even = True\n",
    "    elif result % 2 == 1:\n",
    "        even = False\n",
    "    print(f\"Sum = {result}. Even? {even}\")\n",
    "\n",
    "sum_and_even_check(first_number, second_number)"
   ]
  },
  {
   "cell_type": "code",
   "execution_count": 22,
   "metadata": {},
   "outputs": [
    {
     "name": "stdout",
     "output_type": "stream",
     "text": [
      "False\n"
     ]
    }
   ],
   "source": [
    "# 3. Aufgabe\n",
    "\n",
    "input_list = [0, 10, 11, 2, 13, 0, 21, 0, 1]\n",
    "\n",
    "def list_check(list):\n",
    "    first_value = list[0]\n",
    "    last_value = list[-1]\n",
    "    print(first_value == last_value)\n",
    "    return \n",
    "\n",
    "list_check(input_list)\n"
   ]
  },
  {
   "cell_type": "code",
   "execution_count": 30,
   "metadata": {},
   "outputs": [
    {
     "name": "stdout",
     "output_type": "stream",
     "text": [
      "9 * 0 = 0\n",
      "9 * 1 = 9\n",
      "9 * 2 = 18\n",
      "9 * 3 = 27\n",
      "9 * 4 = 36\n",
      "9 * 5 = 45\n",
      "9 * 6 = 54\n",
      "9 * 7 = 63\n",
      "9 * 8 = 72\n",
      "9 * 9 = 81\n",
      "9 * 10 = 90\n",
      "9 * 11 = 99\n",
      "9 * 12 = 108\n"
     ]
    }
   ],
   "source": [
    "# 4. Aufgabe\n",
    "\n",
    "table_number = 9\n",
    "\n",
    "def multiplication_table(number):\n",
    "    for x in range(12+1):\n",
    "        print(f\"{number} * {x} = {number * x}\")\n",
    "\n",
    "multiplication_table(table_number)"
   ]
  },
  {
   "cell_type": "code",
   "execution_count": null,
   "metadata": {},
   "outputs": [],
   "source": [
    "# 5. Aufgabe\n",
    "\n",
    "goal = 100\n",
    "\n",
    "def uneven(goal):\n",
    "    for x in range(0, goal + 1):\n",
    "        if x % 2 == 1:\n",
    "            print(x)\n",
    "\n",
    "uneven(goal)"
   ]
  },
  {
   "cell_type": "code",
   "execution_count": 24,
   "metadata": {},
   "outputs": [
    {
     "name": "stdout",
     "output_type": "stream",
     "text": [
      "1\n"
     ]
    }
   ],
   "source": [
    "# 6. Aufgabe\n",
    "\n",
    "import random\n",
    "\n",
    "die = [1, 2, 3, 4, 5, 6]\n",
    "\n",
    "def random_die(die):\n",
    "    throw = random.choice(die)\n",
    "    print(throw)\n",
    "\n",
    "random_die(die)\n"
   ]
  },
  {
   "cell_type": "code",
   "execution_count": 28,
   "metadata": {},
   "outputs": [
    {
     "name": "stdout",
     "output_type": "stream",
     "text": [
      "True\n"
     ]
    }
   ],
   "source": [
    "# 7. Aufgabe\n",
    "\n",
    "import datetime\n",
    "\n",
    "def saturday_check():\n",
    "    today = datetime.date.today().strftime('%A')\n",
    "    if today == \"Saturday\":\n",
    "        print(True)\n",
    "    else:\n",
    "        print(False)\n",
    "\n",
    "saturday_check()\n",
    "    "
   ]
  },
  {
   "cell_type": "code",
   "execution_count": 2,
   "metadata": {},
   "outputs": [
    {
     "data": {
      "text/plain": [
       "78.53981633974483"
      ]
     },
     "execution_count": 2,
     "metadata": {},
     "output_type": "execute_result"
    }
   ],
   "source": [
    "# 8. Aufgabe\n",
    "\n",
    "import math\n",
    "import turtle\n",
    "\n",
    "def circlefunc(circumference):\n",
    "    radius = circumference / 2.0\n",
    "    area = math.pi * radius ** 2.0\n",
    "    return area\n",
    "\n",
    "circlefunc(10)\n",
    "    "
   ]
  },
  {
   "cell_type": "code",
   "execution_count": null,
   "metadata": {},
   "outputs": [],
   "source": []
  }
 ],
 "metadata": {
  "interpreter": {
   "hash": "30a478945597f6d35dd8086024ee53b15e89bf13cfeb4f4f64b0be6bd5f16103"
  },
  "kernelspec": {
   "display_name": "Python 3.10.4 ('workenv')",
   "language": "python",
   "name": "python3"
  },
  "language_info": {
   "codemirror_mode": {
    "name": "ipython",
    "version": 3
   },
   "file_extension": ".py",
   "mimetype": "text/x-python",
   "name": "python",
   "nbconvert_exporter": "python",
   "pygments_lexer": "ipython3",
   "version": "3.10.4"
  },
  "orig_nbformat": 4
 },
 "nbformat": 4,
 "nbformat_minor": 2
}
